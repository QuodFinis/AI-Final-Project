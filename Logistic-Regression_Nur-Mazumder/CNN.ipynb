{
 "cells": [
  {
   "cell_type": "code",
   "execution_count": 3,
   "id": "d1211881",
   "metadata": {},
   "outputs": [
    {
     "name": "stderr",
     "output_type": "stream",
     "text": [
      "2023-12-20 01:05:38.379453: I tensorflow/core/platform/cpu_feature_guard.cc:182] This TensorFlow binary is optimized to use available CPU instructions in performance-critical operations.\n",
      "To enable the following instructions: AVX2 FMA, in other operations, rebuild TensorFlow with the appropriate compiler flags.\n"
     ]
    }
   ],
   "source": [
    "import tensorflow as tf\n"
   ]
  },
  {
   "cell_type": "code",
   "execution_count": 6,
   "id": "6fdc6d4e",
   "metadata": {},
   "outputs": [],
   "source": [
    "mnist = tf.keras.datasets.mnist  # this is basically handwritten characters based on 28x28 sized images of 0 to 9\n"
   ]
  },
  {
   "cell_type": "code",
   "execution_count": 7,
   "id": "80c7df21",
   "metadata": {},
   "outputs": [],
   "source": [
    "## unpacking the dataset into train and test datasets\n",
    "(x_train, y_train), (x_test, y_test) = mnist.load_data()"
   ]
  },
  {
   "cell_type": "code",
   "execution_count": 8,
   "id": "3e8215ef",
   "metadata": {},
   "outputs": [
    {
     "data": {
      "text/plain": [
       "(60000, 28, 28)"
      ]
     },
     "execution_count": 8,
     "metadata": {},
     "output_type": "execute_result"
    }
   ],
   "source": [
    "x_train.shape"
   ]
  },
  {
   "cell_type": "code",
   "execution_count": 16,
   "id": "7f25f127",
   "metadata": {},
   "outputs": [
    {
     "data": {
      "image/png": "[encoded data removed]",
      "text/plain": [
       "<Figure size 432x288 with 1 Axes>"
      ]
     },
     "metadata": {
      "needs_background": "light"
     },
     "output_type": "display_data"
    },
    {
     "data": {
      "text/plain": [
       "<matplotlib.image.AxesImage at 0x7ff2cc178d90>"
      ]
     },
     "execution_count": 16,
     "metadata": {},
     "output_type": "execute_result"
    },
    {
     "data": {
      "image/png": "[encoded data removed]",
      "text/plain": [
       "<Figure size 432x288 with 1 Axes>"
      ]
     },
     "metadata": {
      "needs_background": "light"
     },
     "output_type": "display_data"
    }
   ],
   "source": [
    "## just check the graph, how data Looks like\n",
    "import matplotlib.pyplot as plt\n",
    "plt.imshow(x_train[9])\n",
    "plt.show() ## in order to execute the graph\n",
    "## however we dont know whether its color image or binary images\n",
    "## so in order to plot it change the configuration\n",
    "plt.imshow(x_train[9], cmap = plt.cm.binary)"
   ]
  },
  {
   "cell_type": "markdown",
   "id": "a4094bcd",
   "metadata": {},
   "source": [
    "## checking the values of each pixel\n",
    "## before normalization"
   ]
  },
  {
   "cell_type": "code",
   "execution_count": 17,
   "id": "aaa60eab",
   "metadata": {},
   "outputs": [
    {
     "name": "stdout",
     "output_type": "stream",
     "text": [
      "[[  0   0   0   0   0   0   0   0   0   0   0   0   0   0   0   0   0   0\n",
      "    0   0   0   0   0   0   0   0   0   0]\n",
      " [  0   0   0   0   0   0   0   0   0   0   0   0   0   0   0   0   0   0\n",
      "    0   0   0   0   0   0   0   0   0   0]\n",
      " [  0   0   0   0   0   0   0   0   0   0   0   0   0   0   0   0   0   0\n",
      "    0   0   0   0   0   0   0   0   0   0]\n",
      " [  0   0   0   0   0   0   0   0   0   0   0   0   0   0   0   0   0   0\n",
      "    0   0   0   0   0   0   0   0   0   0]\n",
      " [  0   0   0   0   0   0   0   0   0   0   0   0   0   0   0   0   0   0\n",
      "    0   0   0   0 189 190   0   0   0   0]\n",
      " [  0   0   0   0   0   0   0   0   0   0   0   0   0   0   0   0   0   0\n",
      "    0   0   0 143 247 153   0   0   0   0]\n",
      " [  0   0   0   0   0   0   0   0   0   0   0   0   0   0   0   0   0   0\n",
      "    0   0 136 247 242  86   0   0   0   0]\n",
      " [  0   0   0   0   0   0   0   0   0   0   0   0   0   0   0   0   0   0\n",
      "    0   0 192 252 187   0   0   0   0   0]\n",
      " [  0   0   0   0   0   0   0   0   0   0   0   0  62 185  18   0   0   0\n",
      "    0  89 236 217  47   0   0   0   0   0]\n",
      " [  0   0   0   0   0   0   0   0   0   0   0   0 216 253  60   0   0   0\n",
      "    0 212 255  81   0   0   0   0   0   0]\n",
      " [  0   0   0   0   0   0   0   0   0   0   0   0 206 252  68   0   0   0\n",
      "   48 242 253  89   0   0   0   0   0   0]\n",
      " [  0   0   0   0   0   0   0   0   0   0   0 131 251 212  21   0   0  11\n",
      "  167 252 197   5   0   0   0   0   0   0]\n",
      " [  0   0   0   0   0   0   0   0   0   0  29 232 247  63   0   0   0 153\n",
      "  252 226   0   0   0   0   0   0   0   0]\n",
      " [  0   0   0   0   0   0   0   0   0  45 219 252 143   0   0   0 116 249\n",
      "  252 103   0   0   0   0   0   0   0   0]\n",
      " [  0   0   0   0   0   0   0   4  96 253 255 253 200 122   7  25 201 250\n",
      "  158   0   0   0   0   0   0   0   0   0]\n",
      " [  0   0   0   0   0   0   0  92 252 252 253 217 252 252 200 227 252 231\n",
      "    0   0   0   0   0   0   0   0   0   0]\n",
      " [  0   0   0   0   0   0  87 251 247 231  65  48 189 252 252 253 252 251\n",
      "  227  35   0   0   0   0   0   0   0   0]\n",
      " [  0   0   0   0   0   0 190 221  98   0   0   0  42 196 252 253 252 252\n",
      "  162   0   0   0   0   0   0   0   0   0]\n",
      " [  0   0   0   0   0   0 111  29   0   0   0   0  62 239 252  86  42  42\n",
      "   14   0   0   0   0   0   0   0   0   0]\n",
      " [  0   0   0   0   0   0   0   0   0   0   0  15 148 253 218   0   0   0\n",
      "    0   0   0   0   0   0   0   0   0   0]\n",
      " [  0   0   0   0   0   0   0   0   0   0   0 121 252 231  28   0   0   0\n",
      "    0   0   0   0   0   0   0   0   0   0]\n",
      " [  0   0   0   0   0   0   0   0   0   0  31 221 251 129   0   0   0   0\n",
      "    0   0   0   0   0   0   0   0   0   0]\n",
      " [  0   0   0   0   0   0   0   0   0   0 218 252 160   0   0   0   0   0\n",
      "    0   0   0   0   0   0   0   0   0   0]\n",
      " [  0   0   0   0   0   0   0   0   0   0 122 252  82   0   0   0   0   0\n",
      "    0   0   0   0   0   0   0   0   0   0]\n",
      " [  0   0   0   0   0   0   0   0   0   0   0   0   0   0   0   0   0   0\n",
      "    0   0   0   0   0   0   0   0   0   0]\n",
      " [  0   0   0   0   0   0   0   0   0   0   0   0   0   0   0   0   0   0\n",
      "    0   0   0   0   0   0   0   0   0   0]\n",
      " [  0   0   0   0   0   0   0   0   0   0   0   0   0   0   0   0   0   0\n",
      "    0   0   0   0   0   0   0   0   0   0]\n",
      " [  0   0   0   0   0   0   0   0   0   0   0   0   0   0   0   0   0   0\n",
      "    0   0   0   0   0   0   0   0   0   0]]\n"
     ]
    }
   ],
   "source": [
    "print(x_train[9])"
   ]
  },
  {
   "cell_type": "markdown",
   "id": "05f86aa8",
   "metadata": {},
   "source": [
    "\n",
    "## Normalizing the data | Pre-Processing Step"
   ]
  },
  {
   "cell_type": "code",
   "execution_count": 19,
   "id": "237997e6",
   "metadata": {},
   "outputs": [
    {
     "data": {
      "text/plain": [
       "<matplotlib.image.AxesImage at 0x7ff2a6188b20>"
      ]
     },
     "execution_count": 19,
     "metadata": {},
     "output_type": "execute_result"
    },
    {
     "data": {
      "image/png": "[encoded data removed]",
      "text/plain": [
       "<Figure size 432x288 with 1 Axes>"
      ]
     },
     "metadata": {
      "needs_background": "light"
     },
     "output_type": "display_data"
    }
   ],
   "source": [
    "### you might have noticed that, its gray image and all values varies from 0 to 255\n",
    "### in order to normalize it\n",
    "x_train = tf.keras.utils.normalize(x_train, axis=1)\n",
    "x_test = tf.keras.utils.normalize(x_test, axis=1)\n",
    "plt.imshow(x_train[9], cmap = plt.cm.binary)"
   ]
  },
  {
   "cell_type": "code",
   "execution_count": 20,
   "id": "ff5818d1",
   "metadata": {},
   "outputs": [
    {
     "name": "stdout",
     "output_type": "stream",
     "text": [
      "[[0.         0.         0.         0.         0.         0.\n",
      "  0.         0.         0.         0.         0.         0.\n",
      "  0.         0.         0.         0.         0.         0.\n",
      "  0.         0.         0.         0.         0.         0.\n",
      "  0.         0.         0.         0.        ]\n",
      " [0.         0.         0.         0.         0.         0.\n",
      "  0.         0.         0.         0.         0.         0.\n",
      "  0.         0.         0.         0.         0.         0.\n",
      "  0.         0.         0.         0.         0.         0.\n",
      "  0.         0.         0.         0.        ]\n",
      " [0.         0.         0.         0.         0.         0.\n",
      "  0.         0.         0.         0.         0.         0.\n",
      "  0.         0.         0.         0.         0.         0.\n",
      "  0.         0.         0.         0.         0.         0.\n",
      "  0.         0.         0.         0.        ]\n",
      " [0.         0.         0.         0.         0.         0.\n",
      "  0.         0.         0.         0.         0.         0.\n",
      "  0.         0.         0.         0.         0.         0.\n",
      "  0.         0.         0.         0.         0.         0.\n",
      "  0.         0.         0.         0.        ]\n",
      " [0.         0.         0.         0.         0.         0.\n",
      "  0.         0.         0.         0.         0.         0.\n",
      "  0.         0.         0.         0.         0.         0.\n",
      "  0.         0.         0.         0.         0.43080231 0.73455499\n",
      "  0.         0.         0.         0.        ]\n",
      " [0.         0.         0.         0.         0.         0.\n",
      "  0.         0.         0.         0.         0.         0.\n",
      "  0.         0.         0.         0.         0.         0.\n",
      "  0.         0.         0.         0.31464079 0.5630062  0.59151007\n",
      "  0.         0.         0.         0.        ]\n",
      " [0.         0.         0.         0.         0.         0.\n",
      "  0.         0.         0.         0.         0.         0.\n",
      "  0.         0.         0.         0.         0.         0.\n",
      "  0.         0.         0.25752265 0.54347046 0.55160931 0.33248279\n",
      "  0.         0.         0.         0.        ]\n",
      " [0.         0.         0.         0.         0.         0.\n",
      "  0.         0.         0.         0.         0.         0.\n",
      "  0.         0.         0.         0.         0.         0.\n",
      "  0.         0.         0.36356139 0.55447189 0.42624356 0.\n",
      "  0.         0.         0.         0.        ]\n",
      " [0.         0.         0.         0.         0.         0.\n",
      "  0.         0.         0.         0.         0.         0.\n",
      "  0.08263281 0.2424802  0.03354929 0.         0.         0.\n",
      "  0.         0.18249242 0.44687754 0.4774619  0.10713073 0.\n",
      "  0.         0.         0.         0.        ]\n",
      " [0.         0.         0.         0.         0.         0.\n",
      "  0.         0.         0.         0.         0.         0.\n",
      "  0.28788206 0.33160806 0.11183097 0.         0.         0.\n",
      "  0.         0.43470103 0.48285497 0.17822311 0.         0.\n",
      "  0.         0.         0.         0.        ]\n",
      " [0.         0.         0.         0.         0.         0.\n",
      "  0.         0.         0.         0.         0.         0.\n",
      "  0.27455418 0.33029736 0.12674177 0.         0.         0.\n",
      "  0.0941115  0.49621533 0.47906787 0.19582539 0.         0.\n",
      "  0.         0.         0.         0.        ]\n",
      " [0.         0.         0.         0.         0.         0.\n",
      "  0.         0.         0.         0.         0.         0.19780352\n",
      "  0.33452961 0.27786921 0.03914084 0.         0.         0.01915839\n",
      "  0.32742958 0.5167201  0.37302913 0.01100143 0.         0.\n",
      "  0.         0.         0.         0.        ]\n",
      " [0.         0.         0.         0.         0.         0.\n",
      "  0.         0.         0.         0.         0.0585375  0.35030852\n",
      "  0.32919846 0.08257434 0.         0.         0.         0.26647572\n",
      "  0.49408535 0.46340771 0.         0.         0.         0.\n",
      "  0.         0.         0.         0.        ]\n",
      " [0.         0.         0.         0.         0.         0.\n",
      "  0.         0.         0.         0.10522207 0.44205906 0.38050753\n",
      "  0.19058858 0.         0.         0.         0.23381538 0.43367617\n",
      "  0.49408535 0.21119909 0.         0.         0.         0.\n",
      "  0.         0.         0.         0.        ]\n",
      " [0.         0.         0.         0.         0.         0.\n",
      "  0.         0.01149145 0.25357016 0.59158187 0.5147263  0.38201748\n",
      "  0.26655746 0.15990586 0.01304695 0.05772456 0.40514561 0.43541784\n",
      "  0.30978367 0.         0.         0.         0.         0.\n",
      "  0.         0.         0.         0.        ]\n",
      " [0.         0.         0.         0.         0.         0.\n",
      "  0.         0.26430344 0.66562166 0.5892436  0.51068923 0.32765926\n",
      "  0.3358624  0.33029736 0.37276991 0.52413901 0.50794375 0.40232609\n",
      "  0.         0.         0.         0.         0.         0.\n",
      "  0.         0.         0.         0.        ]\n",
      " [0.         0.         0.         0.         0.         0.\n",
      "  0.36767493 0.72108874 0.65241488 0.54013997 0.13120474 0.07247762\n",
      "  0.2518968  0.33029736 0.46969008 0.58417255 0.50794375 0.43715952\n",
      "  0.44506895 0.07176668 0.         0.         0.         0.\n",
      "  0.         0.         0.         0.        ]\n",
      " [0.         0.         0.         0.         0.         0.\n",
      "  0.80296824 0.63490283 0.25885287 0.         0.         0.\n",
      "  0.05597707 0.25689794 0.46969008 0.58417255 0.50794375 0.43890119\n",
      "  0.3176263  0.         0.         0.         0.         0.\n",
      "  0.         0.         0.         0.        ]\n",
      " [0.         0.         0.         0.         0.         0.\n",
      "  0.4691025  0.08331304 0.         0.         0.         0.\n",
      "  0.08263281 0.31325821 0.46969008 0.19857249 0.08465729 0.0731502\n",
      "  0.02744919 0.         0.         0.         0.         0.\n",
      "  0.         0.         0.         0.        ]\n",
      " [0.         0.         0.         0.         0.         0.\n",
      "  0.         0.         0.         0.         0.         0.02264926\n",
      "  0.19725252 0.33160806 0.4063192  0.         0.         0.\n",
      "  0.         0.         0.         0.         0.         0.\n",
      "  0.         0.         0.         0.        ]\n",
      " [0.         0.         0.         0.         0.         0.\n",
      "  0.         0.         0.         0.         0.         0.18270401\n",
      "  0.3358624  0.30277258 0.05218779 0.         0.         0.\n",
      "  0.         0.         0.         0.         0.         0.\n",
      "  0.         0.         0.         0.        ]\n",
      " [0.         0.         0.         0.         0.         0.\n",
      "  0.         0.         0.         0.         0.06257457 0.33369906\n",
      "  0.33452961 0.16908079 0.         0.         0.         0.\n",
      "  0.         0.         0.         0.         0.         0.\n",
      "  0.         0.         0.         0.        ]\n",
      " [0.         0.         0.         0.         0.         0.\n",
      "  0.         0.         0.         0.         0.44004052 0.38050753\n",
      "  0.21324597 0.         0.         0.         0.         0.\n",
      "  0.         0.         0.         0.         0.         0.\n",
      "  0.         0.         0.         0.        ]\n",
      " [0.         0.         0.         0.         0.         0.\n",
      "  0.         0.         0.         0.         0.24626121 0.38050753\n",
      "  0.10928856 0.         0.         0.         0.         0.\n",
      "  0.         0.         0.         0.         0.         0.\n",
      "  0.         0.         0.         0.        ]\n",
      " [0.         0.         0.         0.         0.         0.\n",
      "  0.         0.         0.         0.         0.         0.\n",
      "  0.         0.         0.         0.         0.         0.\n",
      "  0.         0.         0.         0.         0.         0.\n",
      "  0.         0.         0.         0.        ]\n",
      " [0.         0.         0.         0.         0.         0.\n",
      "  0.         0.         0.         0.         0.         0.\n",
      "  0.         0.         0.         0.         0.         0.\n",
      "  0.         0.         0.         0.         0.         0.\n",
      "  0.         0.         0.         0.        ]\n",
      " [0.         0.         0.         0.         0.         0.\n",
      "  0.         0.         0.         0.         0.         0.\n",
      "  0.         0.         0.         0.         0.         0.\n",
      "  0.         0.         0.         0.         0.         0.\n",
      "  0.         0.         0.         0.        ]\n",
      " [0.         0.         0.         0.         0.         0.\n",
      "  0.         0.         0.         0.         0.         0.\n",
      "  0.         0.         0.         0.         0.         0.\n",
      "  0.         0.         0.         0.         0.         0.\n",
      "  0.         0.         0.         0.        ]]\n"
     ]
    }
   ],
   "source": [
    "print(x_train[9])"
   ]
  },
  {
   "cell_type": "code",
   "execution_count": 21,
   "id": "763c7f5a",
   "metadata": {},
   "outputs": [
    {
     "name": "stdout",
     "output_type": "stream",
     "text": [
      "4\n"
     ]
    }
   ],
   "source": [
    "print(y_train[9])"
   ]
  },
  {
   "cell_type": "markdown",
   "id": "b5239f94",
   "metadata": {},
   "source": [
    "## resizing image for convolution operation"
   ]
  },
  {
   "cell_type": "code",
   "execution_count": 29,
   "id": "488b9310",
   "metadata": {},
   "outputs": [
    {
     "name": "stdout",
     "output_type": "stream",
     "text": [
      "Training Samples dimension (60000, 28, 28, 1)\n",
      "Testing Samples dimension (10000, 28, 28, 1)\n"
     ]
    }
   ],
   "source": [
    "import numpy as np  # pip install numpy\n",
    "IMG_SIZE = 28\n",
    "x_trainr = np.array(x_train).reshape(-1, IMG_SIZE, IMG_SIZE, 1)  ### increasing one dimension for kernel operation\n",
    "x_testr = np.array(x_test).reshape(-1, IMG_SIZE, IMG_SIZE, 1)    ### increasing one dimension for kernel operation\n",
    "print(\"Training Samples dimension\", x_trainr.shape)\n",
    "print(\"Testing Samples dimension\", x_testr.shape)\n"
   ]
  },
  {
   "cell_type": "markdown",
   "id": "1790b30d",
   "metadata": {},
   "source": [
    "## creating CNN\n",
    "## training MNIST "
   ]
  },
  {
   "cell_type": "code",
   "execution_count": 30,
   "id": "4fcab74f",
   "metadata": {},
   "outputs": [],
   "source": [
    "from tensorflow.keras.models import Sequential\n",
    "from tensorflow.keras.layers import Dense, Dropout, Activation, Flatten, Conv2D, MaxPooling2D\n"
   ]
  },
  {
   "cell_type": "code",
   "execution_count": 33,
   "id": "14388f14",
   "metadata": {},
   "outputs": [],
   "source": [
    "### Creating a neural network now\n",
    "\n",
    "model = Sequential()\n",
    "\n",
    "\n",
    "### First Convolution Layer\n",
    "model.add(Conv2D(64, (3, 3), input_shape=x_trainr.shape[1:])) # Corrected input shape\n",
    "model.add(Activation(\"relu\"))\n",
    "model.add(MaxPooling2D(pool_size=(2, 2)))\n",
    "\n",
    "### 2nd Convolution Layer\n",
    "model.add(Conv2D(64, (3, 3))) ### 26+3-1 = 24x24\n",
    "model.add(Activation(\"relu\")) ### activation funtion\n",
    "model.add(MaxPooling2D(pool_size=(2,2))) ### MAXpooling\n",
    "\n",
    "### 3rd Convolution Layer\n",
    "model.add(Conv2D(64, (3, 3))) # 24*24\n",
    "model.add(Activation(\"relu\"))\n",
    "model.add(MaxPooling2D(pool_size=(2,2)))\n",
    "\n",
    "### Fully Connected Layer #1 20x20= 400\n",
    "model.add(Flatten()) ### before using fully connected Layer, need to be flatten so that 2D to 1D\n",
    "model.add(Dense(64)) #\n",
    "model.add(Activation(\"relu\"))\n",
    "\n",
    "### Fully Connected Layer #2\n",
    "model.add(Dense(32))\n",
    "model.add(Activation(\"relu\"))\n",
    "\n",
    "### Last Fully Connected Layer, output must be equal to number of classes, 10 (0-9)\n",
    "model.add(Dense(10)) # this last dense layer must be equal to 10\n",
    "model.add(Activation('softmax')) ### activation function is changed to Softmax (class probabilities )\n"
   ]
  },
  {
   "cell_type": "code",
   "execution_count": 34,
   "id": "291fd2b1",
   "metadata": {},
   "outputs": [
    {
     "name": "stdout",
     "output_type": "stream",
     "text": [
      "Model: \"sequential_6\"\n",
      "_________________________________________________________________\n",
      " Layer (type)                Output Shape              Param #   \n",
      "=================================================================\n",
      " conv2d_8 (Conv2D)           (None, 26, 26, 64)        640       \n",
      "                                                                 \n",
      " activation_6 (Activation)   (None, 26, 26, 64)        0         \n",
      "                                                                 \n",
      " max_pooling2d_3 (MaxPoolin  (None, 13, 13, 64)        0         \n",
      " g2D)                                                            \n",
      "                                                                 \n",
      " conv2d_9 (Conv2D)           (None, 11, 11, 64)        36928     \n",
      "                                                                 \n",
      " activation_7 (Activation)   (None, 11, 11, 64)        0         \n",
      "                                                                 \n",
      " max_pooling2d_4 (MaxPoolin  (None, 5, 5, 64)          0         \n",
      " g2D)                                                            \n",
      "                                                                 \n",
      " conv2d_10 (Conv2D)          (None, 3, 3, 64)          36928     \n",
      "                                                                 \n",
      " activation_8 (Activation)   (None, 3, 3, 64)          0         \n",
      "                                                                 \n",
      " max_pooling2d_5 (MaxPoolin  (None, 1, 1, 64)          0         \n",
      " g2D)                                                            \n",
      "                                                                 \n",
      " flatten_1 (Flatten)         (None, 64)                0         \n",
      "                                                                 \n",
      " dense_3 (Dense)             (None, 64)                4160      \n",
      "                                                                 \n",
      " activation_9 (Activation)   (None, 64)                0         \n",
      "                                                                 \n",
      " dense_4 (Dense)             (None, 32)                2080      \n",
      "                                                                 \n",
      " activation_10 (Activation)  (None, 32)                0         \n",
      "                                                                 \n",
      " dense_5 (Dense)             (None, 10)                330       \n",
      "                                                                 \n",
      " activation_11 (Activation)  (None, 10)                0         \n",
      "                                                                 \n",
      "=================================================================\n",
      "Total params: 81066 (316.66 KB)\n",
      "Trainable params: 81066 (316.66 KB)\n",
      "Non-trainable params: 0 (0.00 Byte)\n",
      "_________________________________________________________________\n"
     ]
    }
   ],
   "source": [
    "model.summary()"
   ]
  },
  {
   "cell_type": "code",
   "execution_count": 35,
   "id": "1d794195",
   "metadata": {},
   "outputs": [
    {
     "name": "stdout",
     "output_type": "stream",
     "text": [
      "Total Training Samples =  60000\n"
     ]
    }
   ],
   "source": [
    "print(\"Total Training Samples = \", len(x_train))"
   ]
  },
  {
   "cell_type": "code",
   "execution_count": 36,
   "id": "c94a9bf3",
   "metadata": {},
   "outputs": [],
   "source": [
    "model.compile(loss=\"sparse_categorical_crossentropy\", optimizer=\"adam\", metrics=['accuracy'])"
   ]
  },
  {
   "cell_type": "code",
   "execution_count": 37,
   "id": "45e906c1",
   "metadata": {},
   "outputs": [
    {
     "name": "stdout",
     "output_type": "stream",
     "text": [
      "Epoch 1/5\n",
      "1313/1313 [==============================] - 29s 21ms/step - loss: 0.3126 - accuracy: 0.9016 - val_loss: 0.1233 - val_accuracy: 0.9607\n",
      "Epoch 2/5\n",
      "1313/1313 [==============================] - 29s 22ms/step - loss: 0.0993 - accuracy: 0.9692 - val_loss: 0.1094 - val_accuracy: 0.9654\n",
      "Epoch 3/5\n",
      "1313/1313 [==============================] - 28s 21ms/step - loss: 0.0723 - accuracy: 0.9773 - val_loss: 0.0729 - val_accuracy: 0.9781\n",
      "Epoch 4/5\n",
      "1313/1313 [==============================] - 30s 23ms/step - loss: 0.0555 - accuracy: 0.9827 - val_loss: 0.0638 - val_accuracy: 0.9818\n",
      "Epoch 5/5\n",
      "1313/1313 [==============================] - 29s 22ms/step - loss: 0.0443 - accuracy: 0.9859 - val_loss: 0.0548 - val_accuracy: 0.9848\n"
     ]
    },
    {
     "data": {
      "text/plain": [
       "<keras.src.callbacks.History at 0x7ff260a7bdc0>"
      ]
     },
     "execution_count": 37,
     "metadata": {},
     "output_type": "execute_result"
    }
   ],
   "source": [
    "model.fit(x_trainr, y_train, epochs=5, validation_split=0.3) ## train model"
   ]
  },
  {
   "cell_type": "code",
   "execution_count": 117,
   "id": "c1b12d84",
   "metadata": {},
   "outputs": [
    {
     "name": "stdout",
     "output_type": "stream",
     "text": [
      "313/313 [==============================] - 1s 5ms/step - loss: 0.0534 - accuracy: 0.9842\n",
      "Test Loss on 10,000 test samples 0.053410205990076065\n",
      "Validation Accuracy on 10,000 test samples 0.9842000007629395\n"
     ]
    }
   ],
   "source": [
    "### Evaluating on testing data set MNIST\n",
    "test_loss, test_acc = model.evaluate(x_testr, y_test)\n",
    "print(\"Test Loss on 10,000 test samples\", test_loss)\n",
    "print(\"Validation Accuracy on 10,000 test samples\", test_acc)\n"
   ]
  },
  {
   "cell_type": "code",
   "execution_count": 118,
   "id": "b9631ac0",
   "metadata": {},
   "outputs": [
    {
     "name": "stdout",
     "output_type": "stream",
     "text": [
      "313/313 [==============================] - 1s 4ms/step\n"
     ]
    }
   ],
   "source": [
    "# predictions = new_model.predict([x_test]) ## there is specialized method for efficiently saving your model, to name all inputs\n",
    "### therefore instead of using new model Loaded, for now only for predictions I am using simple model\n",
    "predictions = model.predict([x_testr])\n"
   ]
  },
  {
   "cell_type": "code",
   "execution_count": 119,
   "id": "0a0a1c01",
   "metadata": {
    "scrolled": true
   },
   "outputs": [
    {
     "name": "stdout",
     "output_type": "stream",
     "text": [
      "[[1.73667196e-08 1.31061893e-06 5.39222583e-07 ... 9.99995649e-01\n",
      "  5.87856830e-09 1.29632474e-06]\n",
      " [4.37049266e-06 4.14375705e-07 9.99981344e-01 ... 1.34627835e-05\n",
      "  4.34810481e-08 8.78195578e-08]\n",
      " [5.74470107e-07 9.99982774e-01 4.52203386e-09 ... 7.12167639e-06\n",
      "  8.69102394e-07 2.21096707e-06]\n",
      " ...\n",
      " [1.21157650e-11 3.19449282e-06 1.47666555e-08 ... 1.88995432e-06\n",
      "  9.28284862e-06 2.46078107e-05]\n",
      " [1.43117022e-05 4.53932535e-06 7.43146487e-08 ... 2.69375931e-07\n",
      "  8.04035168e-04 1.92124917e-05]\n",
      " [2.38590655e-05 7.97821098e-09 2.74336326e-05 ... 8.76124773e-07\n",
      "  1.51486001e-05 2.53624803e-05]]\n"
     ]
    }
   ],
   "source": [
    "print(predictions) ## actually these predictions are based on one hot encoding so these are only arrays, containing softmax probabilities"
   ]
  },
  {
   "cell_type": "code",
   "execution_count": 120,
   "id": "eeccf715",
   "metadata": {},
   "outputs": [
    {
     "name": "stdout",
     "output_type": "stream",
     "text": [
      "2\n"
     ]
    }
   ],
   "source": [
    "# in order to understand, convert the predictions from one hot encoding, we need to use numpy for that\n",
    "print(np.argmax(predictions[1])) ### so actually argmax will return the maximum value index and find the value of it"
   ]
  },
  {
   "cell_type": "code",
   "execution_count": 121,
   "id": "42349916",
   "metadata": {},
   "outputs": [
    {
     "data": {
      "text/plain": [
       "<matplotlib.image.AxesImage at 0x7ff2641c3a60>"
      ]
     },
     "execution_count": 121,
     "metadata": {},
     "output_type": "execute_result"
    },
    {
     "data": {
      "image/png": "[encoded data removed]",
      "text/plain": [
       "<Figure size 432x288 with 1 Axes>"
      ]
     },
     "metadata": {
      "needs_background": "light"
     },
     "output_type": "display_data"
    }
   ],
   "source": [
    "### now to check that is our answer is true or not\n",
    "plt.imshow(x_test[1])"
   ]
  },
  {
   "cell_type": "code",
   "execution_count": 47,
   "id": "bf200f7d",
   "metadata": {},
   "outputs": [
    {
     "name": "stdout",
     "output_type": "stream",
     "text": [
      "Collecting opencv-python\n",
      "  Downloading opencv_python-4.8.1.78-cp37-abi3-macosx_10_16_x86_64.whl (54.7 MB)\n",
      "\u001b[K     |████████████████████████████████| 54.7 MB 107.5 MB/s eta 0:00:01\n",
      "\u001b[?25hRequirement already satisfied: numpy>=1.17.3 in /opt/anaconda3/lib/python3.9/site-packages (from opencv-python) (1.26.2)\n",
      "Installing collected packages: opencv-python\n",
      "Successfully installed opencv-python-4.8.1.78\n",
      "Note: you may need to restart the kernel to use updated packages.\n"
     ]
    }
   ],
   "source": [
    "pip install opencv-python"
   ]
  },
  {
   "cell_type": "code",
   "execution_count": 49,
   "id": "b433431f",
   "metadata": {},
   "outputs": [],
   "source": [
    "import cv2"
   ]
  },
  {
   "cell_type": "code",
   "execution_count": 84,
   "id": "15d14b00",
   "metadata": {},
   "outputs": [],
   "source": [
    "image = cv2.imread('four.png')"
   ]
  },
  {
   "cell_type": "code",
   "execution_count": 85,
   "id": "a8809ca2",
   "metadata": {},
   "outputs": [
    {
     "data": {
      "text/plain": [
       "<matplotlib.image.AxesImage at 0x7ff2a621fc40>"
      ]
     },
     "execution_count": 85,
     "metadata": {},
     "output_type": "execute_result"
    },
    {
     "data": {
      "image/png": "[encoded data removed]",
      "text/plain": [
       "<Figure size 432x288 with 1 Axes>"
      ]
     },
     "metadata": {
      "needs_background": "light"
     },
     "output_type": "display_data"
    }
   ],
   "source": [
    "plt.imshow(image)"
   ]
  },
  {
   "cell_type": "code",
   "execution_count": 86,
   "id": "c4e43097",
   "metadata": {},
   "outputs": [
    {
     "data": {
      "text/plain": [
       "(736, 422, 3)"
      ]
     },
     "execution_count": 86,
     "metadata": {},
     "output_type": "execute_result"
    }
   ],
   "source": [
    "image.shape"
   ]
  },
  {
   "cell_type": "code",
   "execution_count": 87,
   "id": "b93f31a9",
   "metadata": {},
   "outputs": [],
   "source": [
    "gray = cv2.cvtColor(image, cv2.COLOR_BGR2GRAY)\n"
   ]
  },
  {
   "cell_type": "code",
   "execution_count": 88,
   "id": "e78e9bae",
   "metadata": {},
   "outputs": [
    {
     "data": {
      "text/plain": [
       "(736, 422)"
      ]
     },
     "execution_count": 88,
     "metadata": {},
     "output_type": "execute_result"
    }
   ],
   "source": [
    "gray.shape"
   ]
  },
  {
   "cell_type": "code",
   "execution_count": 89,
   "id": "76991096",
   "metadata": {},
   "outputs": [],
   "source": [
    "resized = cv2.resize(gray, (28, 28), interpolation = cv2.INTER_AREA)"
   ]
  },
  {
   "cell_type": "code",
   "execution_count": 90,
   "id": "648d62fa",
   "metadata": {},
   "outputs": [
    {
     "data": {
      "text/plain": [
       "(28, 28)"
      ]
     },
     "execution_count": 90,
     "metadata": {},
     "output_type": "execute_result"
    }
   ],
   "source": [
    "resized.shape"
   ]
  },
  {
   "cell_type": "code",
   "execution_count": 91,
   "id": "d3fe4711",
   "metadata": {},
   "outputs": [],
   "source": [
    "newimg = tf.keras.utils.normalize(resized, axis = 1)  # 0 to 1 scaling"
   ]
  },
  {
   "cell_type": "code",
   "execution_count": 92,
   "id": "395aba45",
   "metadata": {},
   "outputs": [],
   "source": [
    "newimg = np.array(newimg).reshape(-1, IMG_SIZE, IMG_SIZE, 1)  # kernel operation of convolution layer,"
   ]
  },
  {
   "cell_type": "code",
   "execution_count": 93,
   "id": "c96bc8c8",
   "metadata": {},
   "outputs": [
    {
     "data": {
      "text/plain": [
       "(1, 28, 28, 1)"
      ]
     },
     "execution_count": 93,
     "metadata": {},
     "output_type": "execute_result"
    }
   ],
   "source": [
    "newimg.shape"
   ]
  },
  {
   "cell_type": "code",
   "execution_count": 94,
   "id": "810fb111",
   "metadata": {},
   "outputs": [
    {
     "name": "stdout",
     "output_type": "stream",
     "text": [
      "1/1 [==============================] - 0s 28ms/step\n"
     ]
    }
   ],
   "source": [
    "predictions = model.predict(newimg)"
   ]
  },
  {
   "cell_type": "code",
   "execution_count": 95,
   "id": "f8be6a75",
   "metadata": {},
   "outputs": [
    {
     "name": "stdout",
     "output_type": "stream",
     "text": [
      "4\n"
     ]
    }
   ],
   "source": [
    "print(np.argmax(predictions))"
   ]
  },
  {
   "cell_type": "code",
   "execution_count": 97,
   "id": "afb661a9",
   "metadata": {},
   "outputs": [],
   "source": [
    "image = cv2.imread('six.png')"
   ]
  },
  {
   "cell_type": "code",
   "execution_count": 98,
   "id": "cd4779ff",
   "metadata": {},
   "outputs": [
    {
     "data": {
      "text/plain": [
       "<matplotlib.image.AxesImage at 0x7ff26171d4c0>"
      ]
     },
     "execution_count": 98,
     "metadata": {},
     "output_type": "execute_result"
    },
    {
     "data": {
      "image/png": "[encoded data removed]",
      "text/plain": [
       "<Figure size 432x288 with 1 Axes>"
      ]
     },
     "metadata": {
      "needs_background": "light"
     },
     "output_type": "display_data"
    }
   ],
   "source": [
    "plt.imshow(image)"
   ]
  },
  {
   "cell_type": "code",
   "execution_count": 99,
   "id": "fc334ef7",
   "metadata": {},
   "outputs": [],
   "source": [
    "gray = cv2.cvtColor(image, cv2.COLOR_BGR2GRAY)\n",
    "resized = cv2.resize(gray, (28, 28), interpolation = cv2.INTER_AREA)\n",
    "newimg = tf.keras.utils.normalize(resized, axis = 1)  # 0 to 1 scaling\n",
    "newimg = np.array(newimg).reshape(-1, IMG_SIZE, IMG_SIZE, 1)  # kernel operation of convolution layer,"
   ]
  },
  {
   "cell_type": "code",
   "execution_count": 100,
   "id": "8e422720",
   "metadata": {},
   "outputs": [
    {
     "name": "stdout",
     "output_type": "stream",
     "text": [
      "1/1 [==============================] - 0s 20ms/step\n"
     ]
    }
   ],
   "source": [
    "predictions = model.predict(newimg)"
   ]
  },
  {
   "cell_type": "code",
   "execution_count": 101,
   "id": "b98ba1aa",
   "metadata": {},
   "outputs": [
    {
     "name": "stdout",
     "output_type": "stream",
     "text": [
      "0\n"
     ]
    }
   ],
   "source": [
    "print(np.argmax(predictions))"
   ]
  },
  {
   "cell_type": "code",
   "execution_count": 106,
   "id": "7d2676aa",
   "metadata": {},
   "outputs": [
    {
     "data": {
      "text/plain": [
       "<matplotlib.image.AxesImage at 0x7ff2618f4b50>"
      ]
     },
     "execution_count": 106,
     "metadata": {},
     "output_type": "execute_result"
    },
    {
     "data": {
      "image/png": "[encoded data removed]",
      "text/plain": [
       "<Figure size 432x288 with 1 Axes>"
      ]
     },
     "metadata": {
      "needs_background": "light"
     },
     "output_type": "display_data"
    }
   ],
   "source": [
    "image = cv2.imread('five.png')\n",
    "plt.imshow(image)"
   ]
  },
  {
   "cell_type": "code",
   "execution_count": 107,
   "id": "aaa9f851",
   "metadata": {},
   "outputs": [],
   "source": [
    "gray = cv2.cvtColor(image, cv2.COLOR_BGR2GRAY)\n",
    "resized = cv2.resize(gray, (28, 28), interpolation = cv2.INTER_AREA)\n",
    "newimg = tf.keras.utils.normalize(resized, axis = 1)  # 0 to 1 scaling\n",
    "newimg = np.array(newimg).reshape(-1, IMG_SIZE, IMG_SIZE, 1)  # kernel operation of convolution layer,"
   ]
  },
  {
   "cell_type": "code",
   "execution_count": 108,
   "id": "1670f90e",
   "metadata": {},
   "outputs": [
    {
     "name": "stdout",
     "output_type": "stream",
     "text": [
      "1/1 [==============================] - 0s 32ms/step\n"
     ]
    }
   ],
   "source": [
    "predictions = model.predict(newimg)"
   ]
  },
  {
   "cell_type": "code",
   "execution_count": 109,
   "id": "5e20c430",
   "metadata": {},
   "outputs": [
    {
     "name": "stdout",
     "output_type": "stream",
     "text": [
      "5\n"
     ]
    }
   ],
   "source": [
    "print(np.argmax(predictions))"
   ]
  },
  {
   "cell_type": "code",
   "execution_count": null,
   "id": "ea19f6db",
   "metadata": {},
   "outputs": [],
   "source": []
  }
 ],
 "metadata": {
  "kernelspec": {
   "display_name": "Python 3 (ipykernel)",
   "language": "python",
   "name": "python3"
  },
  "language_info": {
   "codemirror_mode": {
    "name": "ipython",
    "version": 3
   },
   "file_extension": ".py",
   "mimetype": "text/x-python",
   "name": "python",
   "nbconvert_exporter": "python",
   "pygments_lexer": "ipython3",
   "version": "3.10.5"
  }
 },
 "nbformat": 4,
 "nbformat_minor": 5
}
