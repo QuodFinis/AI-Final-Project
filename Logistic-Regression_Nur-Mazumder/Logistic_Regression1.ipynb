{
 "cells": [
  {
   "cell_type": "code",
   "execution_count": 27,
   "id": "dbd4c5a0",
   "metadata": {},
   "outputs": [],
   "source": [
    "# Import the neccessary Libraries\n",
    "import numpy as np\n",
    "from sklearn.datasets import load_digits\n",
    "from sklearn.model_selection import train_test_split\n",
    "from sklearn.linear_model import LogisticRegression\n",
    "from sklearn.metrics import accuracy_score, confusion_matrix\n",
    "import matplotlib.pyplot as plt\n",
    "import seaborn as sns"
   ]
  },
  {
   "cell_type": "code",
   "execution_count": 28,
   "id": "8f8be4ea",
   "metadata": {},
   "outputs": [],
   "source": [
    "# Load MNIST dataset\n",
    "mnist = load_digits()\n",
    "X = mnist.data\n",
    "y = mnist.target\n",
    "\n",
    "# Preprocess data --> split into 75% training and 25% testing\n",
    "X_train, X_test, y_train, y_test = train_test_split(X, y, test_size=0.25, random_state=123)"
   ]
  },
  {
   "cell_type": "code",
   "execution_count": 29,
   "id": "da7e10b2",
   "metadata": {},
   "outputs": [],
   "source": [
    "# Implementation of Logistic Regression from scratch\n",
    "# Implement Logistic Regression from scratch\n",
    "class LogisticRegressionFromScratch:\n",
    "    def __init__(self, learning_rate=0.01, epochs=1000):\n",
    "        self.learning_rate = learning_rate\n",
    "        self.epochs = epochs\n",
    "\n",
    "    def sigmoid(self, z):\n",
    "        return 1 / (1 + np.exp(-z))\n",
    "\n",
    "    def fit(self, X, y):\n",
    "        self.theta = np.zeros(X.shape[1])\n",
    "        self.loss_history = []  # To store the loss values\n",
    "        for epoch in range(self.epochs):\n",
    "            z = np.dot(X, self.theta)\n",
    "            h = self.sigmoid(z)\n",
    "            loss = -np.mean(y * np.log(h) + (1 - y) * np.log(1 - h))  # Binary cross-entropy loss\n",
    "            self.loss_history.append(loss)\n",
    "            gradient = np.dot(X.T, (h - y)) / y.size\n",
    "            self.theta -= self.learning_rate * gradient\n",
    "\n",
    "    def predict(self, X):\n",
    "        return np.round(self.sigmoid(np.dot(X, self.theta)))"
   ]
  },
  {
   "cell_type": "code",
   "execution_count": 37,
   "id": "eb64e017",
   "metadata": {},
   "outputs": [],
   "source": [
    "class LogisticRegressionOvR:\n",
    "    def __init__(self, n_classes, **kwargs):\n",
    "        self.models = [LogisticRegressionFromScratch(**kwargs) for _ in range(n_classes)]\n",
    "\n",
    "    def fit(self, X, y):\n",
    "        for i, model in enumerate(self.models):\n",
    "            binary_y = (y == i).astype(int)\n",
    "            model.fit(X, binary_y)\n",
    "\n",
    "    def predict(self, X):\n",
    "        predictions = np.array([model.predict(X) for model in self.models]).T\n",
    "        return np.argmax(predictions, axis=1)\n"
   ]
  },
  {
   "cell_type": "code",
   "execution_count": 38,
   "id": "8404004d",
   "metadata": {},
   "outputs": [],
   "source": [
    "# Normalizing features\n",
    "X_train /= 16.0\n",
    "X_test /= 16.0\n",
    "\n",
    "# Training the OvR Logistic Regression model\n",
    "ovr_model = LogisticRegressionOvR(n_classes=10, learning_rate=0.01, epochs=1000)\n",
    "ovr_model.fit(X_train, y_train)\n",
    "\n",
    "# Making predictions\n",
    "ovr_predictions = ovr_model.predict(X_test)\n",
    "\n",
    "# Calculate accuracy or other metrics as needed\n"
   ]
  },
  {
   "cell_type": "code",
   "execution_count": 30,
   "id": "71a0ce1e",
   "metadata": {},
   "outputs": [],
   "source": [
    "# Train Logistic Regression model from scratch\n",
    "model_scratch = LogisticRegressionFromScratch()   # call on the model, no parameters, meaning default values remain\n",
    "model_scratch.fit(X_train, (y_train == 7).astype(int))  # Binary classification for digit 7\n"
   ]
  },
  {
   "cell_type": "code",
   "execution_count": 31,
   "id": "cc3ab739",
   "metadata": {},
   "outputs": [
    {
     "data": {
      "image/png": "[encoded data removed]",
      "text/plain": [
       "<Figure size 864x288 with 10 Axes>"
      ]
     },
     "metadata": {},
     "output_type": "display_data"
    }
   ],
   "source": [
    "# Create a figure with 1 row and 10 columns of subplots\n",
    "# Set the figure size to (12, 4) inches\n",
    "# Remove the x and y ticks for each subplot\n",
    "fig, axes = plt.subplots(1, 10, figsize=(12, 4), subplot_kw=dict(xticks=[], yticks=[]))\n",
    "\n",
    "# Loop through each subplot in the 1x10 grid\n",
    "for i, ax in enumerate(axes.flat):\n",
    "    # Display the i-th image from the 'mnist' dataset in grayscale\n",
    "    ax.imshow(mnist.images[i], cmap='gray_r')\n",
    "\n",
    "    # Set the title of the subplot with the corresponding label from the 'mnist' dataset\n",
    "    ax.set_title(f\"Label: {mnist.target[i]}\")\n",
    "\n",
    "# Display the entire figure with all subplots\n",
    "plt.show()\n"
   ]
  },
  {
   "cell_type": "code",
   "execution_count": 32,
   "id": "435b62f8",
   "metadata": {},
   "outputs": [
    {
     "data": {
      "text/plain": [
       "LogisticRegression(max_iter=1000)"
      ]
     },
     "execution_count": 32,
     "metadata": {},
     "output_type": "execute_result"
    }
   ],
   "source": [
    "# Create an instance of the LogisticRegression model with a maximum of 1000 iterations\n",
    "# Increasing max_iter allows the optimization algorithm more iterations to converge\n",
    "model_prebuilt = LogisticRegression(max_iter=1000)\n",
    "\n",
    "# Fit the logistic regression model to the training data\n",
    "# The target variable is binary (y_train == 7), converted to integer using astype(int)\n",
    "model_prebuilt.fit(X_train, (y_train == 7).astype(int))   # we first needed to convert the data into binary so that it can be trained on the model, now we checking for 7 using the trained model "
   ]
  },
  {
   "cell_type": "code",
   "execution_count": 40,
   "id": "c0d0dc5c",
   "metadata": {},
   "outputs": [
    {
     "name": "stdout",
     "output_type": "stream",
     "text": [
      "Accuracy (Logistic Regression from scratch): 0.8733333333333333\n",
      "Accuracy (Prebuilt Logistic Regression): 0.9088888888888889\n"
     ]
    }
   ],
   "source": [
    "# Evaluate and compare models\n",
    "accuracy_scratch = np.mean(ovr_model.predict(X_test) == (y_test == 7))\n",
    "accuracy_prebuilt = model_prebuilt.score(X_test, (y_test == 7).astype(int))\n",
    "\n",
    "print(f\"Accuracy (Logistic Regression from scratch): {accuracy_scratch}\")   # the model from scratch performed slighly better compared to the prebuilt logistic regression model\n",
    "print(f\"Accuracy (Prebuilt Logistic Regression): {accuracy_prebuilt}\")"
   ]
  },
  {
   "cell_type": "code",
   "execution_count": 41,
   "id": "be7a8889",
   "metadata": {},
   "outputs": [
    {
     "data": {
      "image/png": "[encoded data removed]",
      "text/plain": [
       "<Figure size 432x288 with 1 Axes>"
      ]
     },
     "metadata": {
      "needs_background": "light"
     },
     "output_type": "display_data"
    }
   ],
   "source": [
    "plt.bar(['From Scratch', 'Scikit-learn'], [accuracy_scratch, accuracy_prebuilt])\n",
    "plt.xlabel('Model')\n",
    "plt.ylabel('Accuracy')\n",
    "plt.title('Accuracy Comparison')\n",
    "plt.show()\n"
   ]
  },
  {
   "cell_type": "code",
   "execution_count": 45,
   "id": "5f3fceab",
   "metadata": {},
   "outputs": [
    {
     "data": {
      "image/png": "[encoded data removed]",
      "text/plain": [
       "<Figure size 432x288 with 2 Axes>"
      ]
     },
     "metadata": {
      "needs_background": "light"
     },
     "output_type": "display_data"
    }
   ],
   "source": [
    "cm = confusion_matrix(y_test, predictions_prebuilt)\n",
    "sns.heatmap(cm, annot=True, fmt='g')\n",
    "plt.title('Confusion Matrix: Scikit-learn')\n",
    "plt.ylabel('True label')\n",
    "plt.xlabel('Predicted label')\n",
    "plt.show()\n"
   ]
  },
  {
   "cell_type": "code",
   "execution_count": null,
   "id": "50d6747e",
   "metadata": {},
   "outputs": [],
   "source": []
  }
 ],
 "metadata": {
  "kernelspec": {
   "display_name": "Python 3 (ipykernel)",
   "language": "python",
   "name": "python3"
  },
  "language_info": {
   "codemirror_mode": {
    "name": "ipython",
    "version": 3
   },
   "file_extension": ".py",
   "mimetype": "text/x-python",
   "name": "python",
   "nbconvert_exporter": "python",
   "pygments_lexer": "ipython3",
   "version": "3.9.12"
  }
 },
 "nbformat": 4,
 "nbformat_minor": 5
}
